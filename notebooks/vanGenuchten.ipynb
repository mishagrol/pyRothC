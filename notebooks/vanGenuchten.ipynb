{
 "cells": [
  {
   "cell_type": "code",
   "execution_count": 3,
   "id": "940602a8",
   "metadata": {},
   "outputs": [],
   "source": [
    "import numpy as np\n",
    "import matplotlib.pyplot as plt\n",
    "np.set_printoptions(precision=3,suppress=True )"
   ]
  },
  {
   "attachments": {},
   "cell_type": "markdown",
   "id": "a4367baa",
   "metadata": {},
   "source": [
    "## Pedotransfer functions (PTF) "
   ]
  },
  {
   "cell_type": "code",
   "execution_count": 4,
   "id": "83b65fdc",
   "metadata": {},
   "outputs": [],
   "source": [
    "\n",
    "\n",
    "class Pedotransfer:\n",
    "    def __init__(self) -> None:\n",
    "        pass\n",
    "        # self.theta_R: float = 0.01\n",
    "        # self._t: float = 1.0\n",
    "\n",
    "    def calc_mbar(self, x):\n",
    "        return 1000.0 * x\n",
    "\n",
    "    def equation_alpha(self, Silt, Clay, OC, BD, t):\n",
    "        return np.exp(\n",
    "            -14.96\n",
    "            + 0.03135 * Silt\n",
    "            + 0.0351 * Clay\n",
    "            + 0.646 * OC * (BD * 1.72)\n",
    "            + 15.29 * OC\n",
    "            - 0.192 * BD\n",
    "            - 4.671 * BD**2\n",
    "            - 0.000781 * Clay**2\n",
    "            - 0.00687 * (OC * 1.72) ** 2\n",
    "            + 0.0449 * (OC * 1.72) ** -1\n",
    "            + 0.0663 * np.log(BD)\n",
    "            + 0.1482 * np.log(OC * 1.72)\n",
    "            - 0.04546 * OC * BD\n",
    "            - 0.4852 * OC * (BD * 1.72)\n",
    "            + 0.00673 * BD * t\n",
    "        )\n",
    "\n",
    "    def equation_theta_s(self, Silt, Clay, OC, BD, t):\n",
    "        return (\n",
    "            0.7919\n",
    "            + 0.001691 * Clay\n",
    "            - 0.29619 * BD\n",
    "            - 0.000001491 * Silt**2\n",
    "            + 0.0000821 * (OC * 1.72) ** 2\n",
    "            + 0.02427 * Clay**-1\n",
    "            + 0.01113 * Silt**-1\n",
    "            + 0.01472 * np.log(Silt)\n",
    "            - 0.0000733 * (OC * 1.72) * Clay\n",
    "            - 0.000619 * BD * Clay\n",
    "            - 0.001183 * BD * (OC * 1.72)\n",
    "            - 0.0001664 * Silt * t\n",
    "        )\n",
    "\n",
    "    def equation_n(self, Silt, Clay, OC, BD, t):\n",
    "        return (\n",
    "            np.exp(\n",
    "                -25.23\n",
    "                - 0.02195 * Clay\n",
    "                + 0.0074 * Silt\n",
    "                - 0.194 * (OC * 1.72)\n",
    "                + 45.5 * OC\n",
    "                - 7.24 * BD**2\n",
    "                + 0.0003658 * Clay**2\n",
    "                + 0.002885 * (OC * 1.72) ** 2\n",
    "                - 12.81 * BD**-1\n",
    "                - 0.1524 * Silt**-1\n",
    "                - 0.01958 * (OC * 1.72) ** -1\n",
    "                - 0.2876 * np.log(Silt)\n",
    "                - 0.0709 * np.log(OC * 1.72)\n",
    "                - 44.6 * np.log(BD)\n",
    "                - 0.02264 * BD * Clay\n",
    "                + 0.0896 * BD * (OC * 1.72)\n",
    "                + 0.00718 * Clay * t\n",
    "            )\n",
    "            + 1\n",
    "        )\n",
    "\n",
    "    def equation_wc(self, theta_R, theta_s, alpha, n, mbar):\n",
    "        return theta_R + (theta_s - theta_R) / (\n",
    "            (1 + (alpha + mbar) ** n) ** (1 - (1 / n))\n",
    "        )\n",
    "\n",
    "    def calc_WCi(self, Silt, Clay, OC, BD, theta_R, t, bar):\n",
    "        theta_s = self.equation_theta_s(Silt, Clay, OC, BD, t)\n",
    "        alpha = self.equation_alpha(Silt, Clay, OC, BD, t)\n",
    "        n = self.equation_n(Silt, Clay, OC, BD, t)\n",
    "        mbar = self.calc_mbar(bar)\n",
    "        return self.equation_wc(theta_R, theta_s, alpha, n, mbar)\n",
    "\n",
    "    def calc_M_i(self, WC_i, WC_fc, depth):\n",
    "        # To convert from water content to soil moisture deficit (mm) used by RothC the following equation is used\n",
    "        return (WC_i - WC_fc) * 10 * depth\n",
    "\n",
    "    def calc_Mis(\n",
    "        self,\n",
    "        silt,\n",
    "        clay,\n",
    "        BD,\n",
    "        C,\n",
    "        t: float = 1.0,\n",
    "        theta_R: float = 0.01,\n",
    "        soil_thickness: float = 23,\n",
    "    ):\n",
    "        # From Annex A Pedotransfer functions\n",
    "        # used to calculate the hydraulic properties\n",
    "        # At Farina et al 2013\n",
    "        Silt = silt\n",
    "        Clay = clay\n",
    "        OC = np.sum(C[:-1])\n",
    "        # Water content at field capacity\n",
    "        WCfc = self.calc_WCi(Silt, Clay, OC, BD, theta_R, t, -0.05)\n",
    "        WCb = self.calc_WCi(Silt, Clay, OC, BD, theta_R, t, -1)\n",
    "        # pwp - permanent wilting point\n",
    "        WCpwp = self.calc_WCi(Silt, Clay, OC, BD, theta_R, t, -15)\n",
    "        # capillary water retained at − 1000 bar\n",
    "        WCc = self.calc_WCi(Silt, Clay, OC, BD, theta_R, t, -1000)\n",
    "        Mb = self.calc_M_i(WCb, WCfc, soil_thickness)\n",
    "        Mpwp = self.calc_M_i(WCpwp, WCfc, soil_thickness)\n",
    "        Mc = self.calc_M_i(WCc, WCfc, soil_thickness)\n",
    "        return Mb, Mpwp, Mc\n",
    "\n"
   ]
  },
  {
   "cell_type": "code",
   "execution_count": 15,
   "id": "c72a440b",
   "metadata": {},
   "outputs": [
    {
     "name": "stdout",
     "output_type": "stream",
     "text": [
      "[-0.014  8.266  1.236 54.051  6.161]\n",
      "(0.0, 0.0, 0.0)\n"
     ]
    },
    {
     "name": "stderr",
     "output_type": "stream",
     "text": [
      "/var/folders/bv/qr4369nx78g7fkr6lx4h5g6r0000gn/T/ipykernel_2795/1186509868.py:11: RuntimeWarning: overflow encountered in exp\n",
      "  return np.exp(\n",
      "/var/folders/bv/qr4369nx78g7fkr6lx4h5g6r0000gn/T/ipykernel_2795/1186509868.py:47: RuntimeWarning: overflow encountered in exp\n",
      "  np.exp(\n"
     ]
    }
   ],
   "source": [
    "SOC=69.7       #Soil organic carbon in Mg/ha \n",
    "clay=48        #Percent clay\n",
    "\n",
    "RPMptf=(0.184*SOC + 0.1555)*(clay + 1.275)**(-0.1158)\n",
    "HUMptf=(0.7148*SOC + 0.5069)*(clay + 0.3421)**(0.0184)\n",
    "BIOptf=(0.014*SOC + 0.0075)*(clay + 8.8473)**(0.0567)\n",
    "IOM=0.049*SOC**(1.139) # Falloon et al. (1998)\n",
    "DPMptf=SOC-IOM-RPMptf-HUMptf-BIOptf\n",
    "\n",
    "C0=np.array([DPMptf, RPMptf, BIOptf, HUMptf, IOM])\n",
    "\n",
    "# C0=np.array([0 , 0 ,0 ,0, IOM])\n",
    "print(C0)\n",
    "pdf = Pedotransfer()\n",
    "result = pdf.calc_Mis(silt=20,\n",
    "        clay=clay,\n",
    "        BD=1.3,\n",
    "        C=C0 ,\n",
    "        t = 1,\n",
    "        theta_R = 0.01,\n",
    "        soil_thickness = 23)\n",
    "print(result)"
   ]
  },
  {
   "cell_type": "markdown",
   "id": "8e08e093",
   "metadata": {},
   "source": [
    "## Rosseta"
   ]
  }
 ],
 "metadata": {
  "kernelspec": {
   "display_name": "geopandas",
   "language": "python",
   "name": "python3"
  },
  "language_info": {
   "codemirror_mode": {
    "name": "ipython",
    "version": 3
   },
   "file_extension": ".py",
   "mimetype": "text/x-python",
   "name": "python",
   "nbconvert_exporter": "python",
   "pygments_lexer": "ipython3",
   "version": "3.12.0"
  },
  "vscode": {
   "interpreter": {
    "hash": "fcd19f685ab2d204a36d8443d73df815c00c5752b862c0bc738c9db794e84eaf"
   }
  }
 },
 "nbformat": 4,
 "nbformat_minor": 5
}
